{
 "cells": [
  {
   "cell_type": "code",
   "execution_count": 1,
   "id": "eb02c8f7",
   "metadata": {},
   "outputs": [],
   "source": [
    "from time import time\n",
    "from pathlib import Path\n",
    "import numpy as np\n",
    "from scipy.io import loadmat\n",
    "from numpy.testing import assert_array_almost_equal, assert_array_equal\n",
    "\n",
    "from clinica_surfstat import clinica_surfstat\n",
    "from _inputs import _get_t1_freesurfer_custom_file_template"
   ]
  },
  {
   "cell_type": "code",
   "execution_count": 2,
   "id": "2ce3aea8",
   "metadata": {},
   "outputs": [],
   "source": [
    "caps_dir = Path(\n",
    "    #\"/network/lustre/iss02/aramis/project/clinica/data_ci/StatisticsSurface\"\n",
    "    \"/Users/nicolas.gensollen/GitRepos/clinica_data_ci/data_ci/StatisticsSurface\"\n",
    ")\n",
    "input_dir = caps_dir / Path(\"in/caps/subjects\")\n",
    "output_dir = Path(\"./out\")\n",
    "tsv_file = caps_dir / Path(\"in/subjects.tsv\")\n",
    "freesurfer_home = Path(\"/Applications/freesurfer/7.2.0/\")\n",
    "surface_file = _get_t1_freesurfer_custom_file_template(input_dir)\n",
    "ground_truth_dir = Path(\"/Users/nicolas.gensollen/ground_truth/statistics-surface/group-UnitTest/\")"
   ]
  },
  {
   "cell_type": "markdown",
   "id": "c5843439",
   "metadata": {},
   "source": [
    "## 1. Group comparison : Male vs Female"
   ]
  },
  {
   "cell_type": "code",
   "execution_count": 3,
   "id": "478710bc",
   "metadata": {},
   "outputs": [
    {
     "name": "stdout",
     "output_type": "stream",
     "text": [
      "--> fsaverage path : /Applications/freesurfer/7.2.0/subjects/fsaverage/surf\n"
     ]
    },
    {
     "name": "stderr",
     "output_type": "stream",
     "text": [
      "/Users/nicolas.gensollen/GitRepos/POC_Stat_Pipeline/clinica_surfstat/_inputs.py:122: FutureWarning: arrays to stack must be passed as a \"sequence\" type such as list or tuple. Support for non-sequence iterables such as generators is deprecated as of NumPy 1.16 and will raise an error in the future.\n",
      "  combined = np.vstack(parts)\n"
     ]
    },
    {
     "name": "stdout",
     "output_type": "stream",
     "text": [
      "--> The GLM linear model is: 1 + sex\n",
      "--> The GLM type is: group_comparison\n",
      "--> Fitting the SLM model with contrast Female-lt-Male...\n",
      "--> Writing results to JSON in out/group-Male-vs-Female_Female-lt-Male_measure-ct_fwhm-20_results.json...\n",
      "--> Writing results to mat files...\n",
      "--> Saving matrix to out/group-Male-vs-Female_Female-lt-Male_measure-ct_fwhm-20_coefficients.mat\n",
      "--> Saving matrix to out/group-Male-vs-Female_Female-lt-Male_measure-ct_fwhm-20_TStatistics.mat\n",
      "--> Saving matrix to out/group-Male-vs-Female_Female-lt-Male_measure-ct_fwhm-20_uncorrectedPValue.mat\n",
      "--> Saving matrix to out/group-Male-vs-Female_Female-lt-Male_measure-ct_fwhm-20_FDR.mat\n",
      "--> Saving matrix to out/group-Male-vs-Female_Female-lt-Male_measure-ct_fwhm-20_correctedPValue.mat\n"
     ]
    },
    {
     "name": "stderr",
     "output_type": "stream",
     "text": [
      "/Users/nicolas.gensollen/GitRepos/POC_Stat_Pipeline/clinica_surfstat/_outputs.py:98: UserWarning: Writing results to BIDS is not implemented yet.\n",
      "  warnings.warn(\"Writing results to BIDS is not implemented yet.\")\n"
     ]
    },
    {
     "name": "stdout",
     "output_type": "stream",
     "text": [
      "--> Saving plot to out/group-Male-vs-Female_Female-lt-Male_measure-ct_fwhm-20TStatistics.png\n",
      "--> Saving plot to out/group-Male-vs-Female_Female-lt-Male_measure-ct_fwhm-20uncorrectedPValue.png\n",
      "--> Saving plot to out/group-Male-vs-Female_Female-lt-Male_measure-ct_fwhm-20FDR.png\n",
      "--> Saving plot to out/group-Male-vs-Female_Female-lt-Male_measure-ct_fwhm-20correctedPValue.png\n",
      "########################################\n",
      "After correction (Clusterwise Correction for Multiple Comparisons): \n",
      "   clusid  nverts    resels         P\n",
      "0       1    24.0  1.468718  0.474061\n",
      "1       2    82.0  1.432200  0.491796\n",
      "2       3     7.0  0.635045  0.962500\n",
      "Clusters found: 3\n",
      "Significative clusters (after correction): 0\n",
      "--> Fitting the SLM model with contrast Male-lt-Female...\n",
      "--> Writing results to JSON in out/group-Male-vs-Female_Male-lt-Female_measure-ct_fwhm-20_results.json...\n",
      "--> Writing results to mat files...\n",
      "--> Saving matrix to out/group-Male-vs-Female_Male-lt-Female_measure-ct_fwhm-20_coefficients.mat\n",
      "--> Saving matrix to out/group-Male-vs-Female_Male-lt-Female_measure-ct_fwhm-20_TStatistics.mat\n",
      "--> Saving matrix to out/group-Male-vs-Female_Male-lt-Female_measure-ct_fwhm-20_uncorrectedPValue.mat\n",
      "--> Saving matrix to out/group-Male-vs-Female_Male-lt-Female_measure-ct_fwhm-20_FDR.mat\n",
      "--> Saving matrix to out/group-Male-vs-Female_Male-lt-Female_measure-ct_fwhm-20_correctedPValue.mat\n",
      "--> Saving plot to out/group-Male-vs-Female_Male-lt-Female_measure-ct_fwhm-20TStatistics.png\n"
     ]
    },
    {
     "name": "stderr",
     "output_type": "stream",
     "text": [
      "/Users/nicolas.gensollen/GitRepos/POC_Stat_Pipeline/clinica_surfstat/_outputs.py:98: UserWarning: Writing results to BIDS is not implemented yet.\n",
      "  warnings.warn(\"Writing results to BIDS is not implemented yet.\")\n"
     ]
    },
    {
     "name": "stdout",
     "output_type": "stream",
     "text": [
      "--> Saving plot to out/group-Male-vs-Female_Male-lt-Female_measure-ct_fwhm-20uncorrectedPValue.png\n",
      "--> Saving plot to out/group-Male-vs-Female_Male-lt-Female_measure-ct_fwhm-20FDR.png\n",
      "--> Saving plot to out/group-Male-vs-Female_Male-lt-Female_measure-ct_fwhm-20correctedPValue.png\n",
      "########################################\n",
      "After correction (Clusterwise Correction for Multiple Comparisons): \n",
      "Empty DataFrame\n",
      "Columns: [clusid, nverts, resels, P]\n",
      "Index: []\n",
      "Clusters found: 0\n",
      "Significative clusters (after correction): 0\n",
      "--> Computations took 177.70107412338257 seconds...\n"
     ]
    }
   ],
   "source": [
    "start = time()\n",
    "design_matrix = \"1 + sex\"\n",
    "contrast = \"sex\"\n",
    "glm_type = \"group_comparison\"\n",
    "group_label = \"Male-vs-Female\"\n",
    "feature_label = \"ct\"\n",
    "parameters = dict()\n",
    "clinica_surfstat(\n",
    "    input_dir,\n",
    "    output_dir,\n",
    "    tsv_file,\n",
    "    design_matrix,\n",
    "    contrast,\n",
    "    glm_type,\n",
    "    group_label,\n",
    "    freesurfer_home,\n",
    "    surface_file,\n",
    "    feature_label,\n",
    "    parameters,\n",
    "    verbose=True,\n",
    ")\n",
    "print(f\"--> Computations took {time() - start} seconds...\")"
   ]
  },
  {
   "cell_type": "markdown",
   "id": "2b25fb60",
   "metadata": {},
   "source": [
    "## 2. Group comparison: AD vs CN with covariates age and sex "
   ]
  },
  {
   "cell_type": "code",
   "execution_count": 4,
   "id": "8ac35058",
   "metadata": {},
   "outputs": [
    {
     "name": "stdout",
     "output_type": "stream",
     "text": [
      "--> fsaverage path : /Applications/freesurfer/7.2.0/subjects/fsaverage/surf\n"
     ]
    },
    {
     "name": "stderr",
     "output_type": "stream",
     "text": [
      "/Users/nicolas.gensollen/GitRepos/POC_Stat_Pipeline/clinica_surfstat/_inputs.py:122: FutureWarning: arrays to stack must be passed as a \"sequence\" type such as list or tuple. Support for non-sequence iterables such as generators is deprecated as of NumPy 1.16 and will raise an error in the future.\n",
      "  combined = np.vstack(parts)\n"
     ]
    },
    {
     "name": "stdout",
     "output_type": "stream",
     "text": [
      "--> The GLM linear model is: 1 + group + age + sex\n",
      "--> The GLM type is: group_comparison\n",
      "--> Fitting the SLM model with contrast AD-lt-CN...\n",
      "--> Writing results to JSON in out/group-AD-vs-CN_AD-lt-CN_measure-ct_fwhm-20_results.json...\n",
      "--> Writing results to mat files...\n",
      "--> Saving matrix to out/group-AD-vs-CN_AD-lt-CN_measure-ct_fwhm-20_coefficients.mat\n",
      "--> Saving matrix to out/group-AD-vs-CN_AD-lt-CN_measure-ct_fwhm-20_TStatistics.mat\n",
      "--> Saving matrix to out/group-AD-vs-CN_AD-lt-CN_measure-ct_fwhm-20_uncorrectedPValue.mat\n",
      "--> Saving matrix to out/group-AD-vs-CN_AD-lt-CN_measure-ct_fwhm-20_FDR.mat\n",
      "--> Saving matrix to out/group-AD-vs-CN_AD-lt-CN_measure-ct_fwhm-20_correctedPValue.mat\n",
      "--> Saving plot to out/group-AD-vs-CN_AD-lt-CN_measure-ct_fwhm-20TStatistics.png\n"
     ]
    },
    {
     "name": "stderr",
     "output_type": "stream",
     "text": [
      "/Users/nicolas.gensollen/GitRepos/POC_Stat_Pipeline/clinica_surfstat/_outputs.py:98: UserWarning: Writing results to BIDS is not implemented yet.\n",
      "  warnings.warn(\"Writing results to BIDS is not implemented yet.\")\n"
     ]
    },
    {
     "name": "stdout",
     "output_type": "stream",
     "text": [
      "--> Saving plot to out/group-AD-vs-CN_AD-lt-CN_measure-ct_fwhm-20uncorrectedPValue.png\n",
      "--> Saving plot to out/group-AD-vs-CN_AD-lt-CN_measure-ct_fwhm-20FDR.png\n",
      "--> Saving plot to out/group-AD-vs-CN_AD-lt-CN_measure-ct_fwhm-20correctedPValue.png\n",
      "########################################\n",
      "After correction (Clusterwise Correction for Multiple Comparisons): \n",
      "    clusid  nverts    resels         P\n",
      "0        1   239.0  8.452505  0.085621\n",
      "1        2    30.0  1.923901  0.457488\n",
      "2        3    14.0  1.733303  0.507004\n",
      "3        4    93.0  1.031970  0.767603\n",
      "4        5    17.0  0.691147  0.921419\n",
      "5        6    76.0  0.593710  0.956412\n",
      "6        7     5.0  0.415081  0.993804\n",
      "7        8    13.0  0.401075  0.995119\n",
      "8        9    12.0  0.300342  0.999588\n",
      "9       10    19.0  0.036456  1.000000\n",
      "10      11     5.0  0.018095  1.000000\n",
      "Clusters found: 11\n",
      "Significative clusters (after correction): 0\n",
      "--> Fitting the SLM model with contrast CN-lt-AD...\n",
      "--> Writing results to JSON in out/group-AD-vs-CN_CN-lt-AD_measure-ct_fwhm-20_results.json...\n",
      "--> Writing results to mat files...\n",
      "--> Saving matrix to out/group-AD-vs-CN_CN-lt-AD_measure-ct_fwhm-20_coefficients.mat\n",
      "--> Saving matrix to out/group-AD-vs-CN_CN-lt-AD_measure-ct_fwhm-20_TStatistics.mat\n",
      "--> Saving matrix to out/group-AD-vs-CN_CN-lt-AD_measure-ct_fwhm-20_uncorrectedPValue.mat\n",
      "--> Saving matrix to out/group-AD-vs-CN_CN-lt-AD_measure-ct_fwhm-20_FDR.mat\n",
      "--> Saving matrix to out/group-AD-vs-CN_CN-lt-AD_measure-ct_fwhm-20_correctedPValue.mat\n",
      "--> Saving plot to out/group-AD-vs-CN_CN-lt-AD_measure-ct_fwhm-20TStatistics.png\n"
     ]
    },
    {
     "name": "stderr",
     "output_type": "stream",
     "text": [
      "/Users/nicolas.gensollen/GitRepos/POC_Stat_Pipeline/clinica_surfstat/_outputs.py:98: UserWarning: Writing results to BIDS is not implemented yet.\n",
      "  warnings.warn(\"Writing results to BIDS is not implemented yet.\")\n"
     ]
    },
    {
     "name": "stdout",
     "output_type": "stream",
     "text": [
      "--> Saving plot to out/group-AD-vs-CN_CN-lt-AD_measure-ct_fwhm-20uncorrectedPValue.png\n",
      "--> Saving plot to out/group-AD-vs-CN_CN-lt-AD_measure-ct_fwhm-20FDR.png\n",
      "--> Saving plot to out/group-AD-vs-CN_CN-lt-AD_measure-ct_fwhm-20correctedPValue.png\n",
      "########################################\n",
      "After correction (Clusterwise Correction for Multiple Comparisons): \n",
      "   clusid  nverts    resels         P\n",
      "0       1     8.0  2.051748  0.428337\n",
      "1       2    44.0  1.559541  0.559422\n",
      "2       3     1.0  0.120314  1.000000\n",
      "Clusters found: 3\n",
      "Significative clusters (after correction): 0\n",
      "--> Computations took 218.0976800918579 seconds...\n"
     ]
    }
   ],
   "source": [
    "start = time()\n",
    "design_matrix = \"1 + group + age + sex\"\n",
    "contrast = \"group\"\n",
    "glm_type = \"group_comparison\"\n",
    "group_label = \"AD-vs-CN\"\n",
    "feature_label = \"ct\"\n",
    "parameters = dict()\n",
    "clinica_surfstat(\n",
    "    input_dir,\n",
    "    output_dir,\n",
    "    tsv_file,\n",
    "    design_matrix,\n",
    "    contrast,\n",
    "    glm_type,\n",
    "    group_label,\n",
    "    freesurfer_home,\n",
    "    surface_file,\n",
    "    feature_label,\n",
    "    parameters,\n",
    "    verbose=True,\n",
    ")\n",
    "print(f\"--> Computations took {time() - start} seconds...\")"
   ]
  },
  {
   "cell_type": "markdown",
   "id": "b3b8d894",
   "metadata": {},
   "source": [
    "### Test against reference\n",
    "\n",
    "Test the results against the reference obtained with Clinica (non regression tests).\n",
    "Note that contrast names are reversed due to an error in the current Matlab code in Clinica.\n",
    "\n",
    "#### Check T-statistics"
   ]
  },
  {
   "cell_type": "code",
   "execution_count": 5,
   "id": "27175f2d",
   "metadata": {},
   "outputs": [
    {
     "data": {
      "text/plain": [
       "array([[0.35022361, 2.92066357, 4.25501375, ..., 1.89603155, 1.89405874,\n",
       "        1.89662065]])"
      ]
     },
     "execution_count": 5,
     "metadata": {},
     "output_type": "execute_result"
    }
   ],
   "source": [
    "ref = loadmat(\n",
    "    str(ground_truth_dir / \"group-UnitTest_AD-lt-CN_measure-ct_fwhm-20_TStatistics.mat\")\n",
    ")[\"tvaluewithmask\"]\n",
    "ref"
   ]
  },
  {
   "cell_type": "code",
   "execution_count": 6,
   "id": "ea3b5b2a",
   "metadata": {},
   "outputs": [
    {
     "data": {
      "text/plain": [
       "array([[0.35022361, 2.92066357, 4.25501375, ..., 1.89603155, 1.89405874,\n",
       "        1.89662065]])"
      ]
     },
     "execution_count": 6,
     "metadata": {},
     "output_type": "execute_result"
    }
   ],
   "source": [
    "computed = loadmat(\n",
    "    str(output_dir / \"group-AD-vs-CN_CN-lt-AD_measure-ct_fwhm-20_TStatistics.mat\")\n",
    ")[\"tvaluewithmask\"]\n",
    "computed"
   ]
  },
  {
   "cell_type": "code",
   "execution_count": 7,
   "id": "3690f248",
   "metadata": {},
   "outputs": [],
   "source": [
    "assert_array_almost_equal(ref, computed)"
   ]
  },
  {
   "cell_type": "code",
   "execution_count": 8,
   "id": "24f9c660",
   "metadata": {},
   "outputs": [
    {
     "data": {
      "text/plain": [
       "array([[-0.35022361, -2.92066357, -4.25501375, ..., -1.89603155,\n",
       "        -1.89405874, -1.89662065]])"
      ]
     },
     "execution_count": 8,
     "metadata": {},
     "output_type": "execute_result"
    }
   ],
   "source": [
    "ref = loadmat(\n",
    "    str(ground_truth_dir / \"group-UnitTest_CN-lt-AD_measure-ct_fwhm-20_TStatistics.mat\")\n",
    ")[\"tvaluewithmask\"]\n",
    "ref"
   ]
  },
  {
   "cell_type": "code",
   "execution_count": 9,
   "id": "aa373487",
   "metadata": {},
   "outputs": [
    {
     "data": {
      "text/plain": [
       "array([[-0.35022361, -2.92066357, -4.25501375, ..., -1.89603155,\n",
       "        -1.89405874, -1.89662065]])"
      ]
     },
     "execution_count": 9,
     "metadata": {},
     "output_type": "execute_result"
    }
   ],
   "source": [
    "computed = loadmat(\n",
    "    str(output_dir / \"group-AD-vs-CN_AD-lt-CN_measure-ct_fwhm-20_TStatistics.mat\")\n",
    ")[\"tvaluewithmask\"]\n",
    "computed"
   ]
  },
  {
   "cell_type": "code",
   "execution_count": 10,
   "id": "aa499553",
   "metadata": {},
   "outputs": [],
   "source": [
    "assert_array_almost_equal(ref, computed)"
   ]
  },
  {
   "cell_type": "markdown",
   "id": "bd9aa5b3",
   "metadata": {},
   "source": [
    "### Check model coefficients"
   ]
  },
  {
   "cell_type": "code",
   "execution_count": 11,
   "id": "78d4c77e",
   "metadata": {},
   "outputs": [
    {
     "data": {
      "text/plain": [
       "array([[ 1.12288808e+00,  9.94678508e-01,  1.82439934e+00, ...,\n",
       "         2.43419350e+00,  2.43246687e+00,  2.42990568e+00],\n",
       "       [ 5.21811440e-01,  2.98611697e-01,  7.68132891e-01, ...,\n",
       "         9.04206283e-01,  9.06807860e-01,  9.08709725e-01],\n",
       "       [ 6.01076636e-01,  6.96066811e-01,  1.05626645e+00, ...,\n",
       "         1.52998722e+00,  1.52565901e+00,  1.52119595e+00],\n",
       "       [ 2.60883119e-03,  2.30871138e-03, -1.98140653e-02, ...,\n",
       "        -3.19322330e-02, -3.19659106e-02, -3.19554695e-02],\n",
       "       [ 4.27840752e-01,  4.46792347e-01,  8.84694488e-01, ...,\n",
       "         1.25112207e+00,  1.25298655e+00,  1.25363383e+00],\n",
       "       [ 6.95047324e-01,  5.47886161e-01,  9.39704855e-01, ...,\n",
       "         1.18307143e+00,  1.17948032e+00,  1.17627185e+00]])"
      ]
     },
     "execution_count": 11,
     "metadata": {},
     "output_type": "execute_result"
    }
   ],
   "source": [
    "ref = loadmat(\n",
    "    str(ground_truth_dir / \"group-UnitTest_CN-lt-AD_measure-ct_fwhm-20_coefficients.mat\")\n",
    ")[\"to_save\"]\n",
    "ref"
   ]
  },
  {
   "cell_type": "code",
   "execution_count": 12,
   "id": "2dd5106a",
   "metadata": {},
   "outputs": [
    {
     "data": {
      "text/plain": [
       "array([[ 1.12288808e+00,  9.94678508e-01,  1.82439934e+00, ...,\n",
       "         2.43419350e+00,  2.43246687e+00,  2.42990568e+00],\n",
       "       [ 5.21811440e-01,  2.98611697e-01,  7.68132891e-01, ...,\n",
       "         9.04206283e-01,  9.06807860e-01,  9.08709725e-01],\n",
       "       [ 6.01076636e-01,  6.96066811e-01,  1.05626645e+00, ...,\n",
       "         1.52998722e+00,  1.52565901e+00,  1.52119595e+00],\n",
       "       [ 2.60883119e-03,  2.30871138e-03, -1.98140653e-02, ...,\n",
       "        -3.19322330e-02, -3.19659106e-02, -3.19554695e-02],\n",
       "       [ 4.27840752e-01,  4.46792347e-01,  8.84694488e-01, ...,\n",
       "         1.25112207e+00,  1.25298655e+00,  1.25363383e+00],\n",
       "       [ 6.95047324e-01,  5.47886161e-01,  9.39704855e-01, ...,\n",
       "         1.18307143e+00,  1.17948032e+00,  1.17627185e+00]])"
      ]
     },
     "execution_count": 12,
     "metadata": {},
     "output_type": "execute_result"
    }
   ],
   "source": [
    "computed = loadmat(\n",
    "    str(output_dir / \"group-AD-vs-CN_AD-lt-CN_measure-ct_fwhm-20_coefficients.mat\")\n",
    ")[\"coef\"]\n",
    "computed"
   ]
  },
  {
   "cell_type": "code",
   "execution_count": 13,
   "id": "7f74cac2",
   "metadata": {},
   "outputs": [],
   "source": [
    "assert_array_almost_equal(computed, ref)"
   ]
  },
  {
   "cell_type": "markdown",
   "id": "5af51c13",
   "metadata": {},
   "source": [
    "### Check uncorrected P-values"
   ]
  },
  {
   "cell_type": "code",
   "execution_count": 14,
   "id": "e21dcbab",
   "metadata": {},
   "outputs": [
    {
     "data": {
      "text/plain": [
       "array([[(array([[0.6253412 , 0.96926845, 0.98810175, ..., 0.92288309, 0.92273287,\n",
       "                0.92292788]]), array([[1, 1, 1, ..., 1, 1, 1]], dtype=uint8), array([[0.001]]))]],\n",
       "      dtype=[('P', 'O'), ('mask', 'O'), ('thresh', 'O')])"
      ]
     },
     "execution_count": 14,
     "metadata": {},
     "output_type": "execute_result"
    }
   ],
   "source": [
    "ref = loadmat(\n",
    "    str(ground_truth_dir / \"group-UnitTest_CN-lt-AD_measure-ct_fwhm-20_uncorrectedPValue.mat\")\n",
    ")[\"uncorrectedpvaluesstruct\"]\n",
    "ref"
   ]
  },
  {
   "cell_type": "code",
   "execution_count": 15,
   "id": "27309c87",
   "metadata": {},
   "outputs": [
    {
     "data": {
      "text/plain": [
       "array([[(array([[0.6253412 , 0.96926845, 0.98810175, ..., 0.92288309, 0.92273287,\n",
       "                0.92292788]]), array([[1, 1, 1, ..., 1, 1, 1]], dtype=uint8), array([[0.001]]))]],\n",
       "      dtype=[('P', 'O'), ('mask', 'O'), ('thresh', 'O')])"
      ]
     },
     "execution_count": 15,
     "metadata": {},
     "output_type": "execute_result"
    }
   ],
   "source": [
    "computed = loadmat(\n",
    "    str(output_dir / \"group-AD-vs-CN_AD-lt-CN_measure-ct_fwhm-20_uncorrectedPValue.mat\")\n",
    ")[\"uncorrectedpvaluesstruct\"]\n",
    "computed"
   ]
  },
  {
   "cell_type": "code",
   "execution_count": 16,
   "id": "5c43e5e6",
   "metadata": {},
   "outputs": [],
   "source": [
    "assert_array_equal(ref['thresh'], computed['thresh'])"
   ]
  },
  {
   "cell_type": "code",
   "execution_count": 17,
   "id": "81e126e7",
   "metadata": {},
   "outputs": [],
   "source": [
    "assert_array_equal(ref['mask'][0, 0], computed['mask'][0, 0])"
   ]
  },
  {
   "cell_type": "code",
   "execution_count": 18,
   "id": "8f68ff86",
   "metadata": {},
   "outputs": [],
   "source": [
    "assert_array_almost_equal(ref['P'][0, 0], computed['P'][0, 0])"
   ]
  },
  {
   "cell_type": "markdown",
   "id": "b79a0c17",
   "metadata": {},
   "source": [
    "### Check FDR"
   ]
  },
  {
   "cell_type": "code",
   "execution_count": 19,
   "id": "0bb015b7",
   "metadata": {},
   "outputs": [
    {
     "data": {
      "text/plain": [
       "array([[(array([[0.74244736, 0.3869886 , 0.3862974 , ..., 0.43233187, 0.43240383,\n",
       "                0.43227164]]), array([[1, 1, 1, ..., 1, 1, 1]], dtype=uint8))    ]],\n",
       "      dtype=[('Q', 'O'), ('mask', 'O')])"
      ]
     },
     "execution_count": 19,
     "metadata": {},
     "output_type": "execute_result"
    }
   ],
   "source": [
    "ref = loadmat(\n",
    "    str(ground_truth_dir / \"group-UnitTest_AD-lt-CN_measure-ct_fwhm-20_FDR.mat\")\n",
    ")[\"qvaluesstruct\"]\n",
    "ref"
   ]
  },
  {
   "cell_type": "code",
   "execution_count": 20,
   "id": "9193edc6",
   "metadata": {},
   "outputs": [
    {
     "data": {
      "text/plain": [
       "array([[0.74244736, 0.3869886 , 0.3862974 , ..., 0.43233187, 0.43240383,\n",
       "        0.43227164]])"
      ]
     },
     "execution_count": 20,
     "metadata": {},
     "output_type": "execute_result"
    }
   ],
   "source": [
    "computed = loadmat(\n",
    "    str(output_dir / \"group-AD-vs-CN_CN-lt-AD_measure-ct_fwhm-20_FDR.mat\")\n",
    ")[\"FDR\"]\n",
    "computed"
   ]
  },
  {
   "cell_type": "code",
   "execution_count": 21,
   "id": "1a777a72",
   "metadata": {},
   "outputs": [],
   "source": [
    "assert_array_almost_equal(ref[\"Q\"][0, 0], computed)"
   ]
  },
  {
   "cell_type": "markdown",
   "id": "36fa2261",
   "metadata": {},
   "source": [
    "## 3. Correlation"
   ]
  },
  {
   "cell_type": "code",
   "execution_count": 22,
   "id": "62815335",
   "metadata": {},
   "outputs": [
    {
     "name": "stdout",
     "output_type": "stream",
     "text": [
      "--> fsaverage path : /Applications/freesurfer/7.2.0/subjects/fsaverage/surf\n",
      "--> The GLM linear model is: 1 + group + age + sex\n",
      "--> The GLM type is: correlation\n",
      "--> Fitting the SLM model with contrast age...\n"
     ]
    },
    {
     "name": "stderr",
     "output_type": "stream",
     "text": [
      "/Users/nicolas.gensollen/GitRepos/POC_Stat_Pipeline/clinica_surfstat/_inputs.py:122: FutureWarning: arrays to stack must be passed as a \"sequence\" type such as list or tuple. Support for non-sequence iterables such as generators is deprecated as of NumPy 1.16 and will raise an error in the future.\n",
      "  combined = np.vstack(parts)\n"
     ]
    },
    {
     "name": "stdout",
     "output_type": "stream",
     "text": [
      "--> Writing results to JSON in out/group-UnitTest_correlation-age-positive_measure-ct_fwhm-20_results.json...\n",
      "--> Writing results to mat files...\n",
      "--> Saving matrix to out/group-UnitTest_correlation-age-positive_measure-ct_fwhm-20_coefficients.mat\n",
      "--> Saving matrix to out/group-UnitTest_correlation-age-positive_measure-ct_fwhm-20_TStatistics.mat\n",
      "--> Saving matrix to out/group-UnitTest_correlation-age-positive_measure-ct_fwhm-20_uncorrectedPValue.mat\n",
      "--> Saving matrix to out/group-UnitTest_correlation-age-positive_measure-ct_fwhm-20_FDR.mat\n",
      "--> Saving matrix to out/group-UnitTest_correlation-age-positive_measure-ct_fwhm-20_correctedPValue.mat\n",
      "--> Saving plot to out/group-UnitTest_correlation-age-positive_measure-ct_fwhm-20TStatistics.png\n"
     ]
    },
    {
     "name": "stderr",
     "output_type": "stream",
     "text": [
      "/Users/nicolas.gensollen/GitRepos/POC_Stat_Pipeline/clinica_surfstat/_outputs.py:98: UserWarning: Writing results to BIDS is not implemented yet.\n",
      "  warnings.warn(\"Writing results to BIDS is not implemented yet.\")\n"
     ]
    },
    {
     "name": "stdout",
     "output_type": "stream",
     "text": [
      "--> Saving plot to out/group-UnitTest_correlation-age-positive_measure-ct_fwhm-20uncorrectedPValue.png\n",
      "--> Saving plot to out/group-UnitTest_correlation-age-positive_measure-ct_fwhm-20FDR.png\n",
      "--> Saving plot to out/group-UnitTest_correlation-age-positive_measure-ct_fwhm-20correctedPValue.png\n",
      "########################################\n",
      "After correction (Clusterwise Correction for Multiple Comparisons): \n",
      "   clusid  nverts    resels         P\n",
      "0       1   135.0  2.142065  0.409476\n",
      "1       2    30.0  1.788983  0.491729\n",
      "2       3     6.0  0.638821  0.941232\n",
      "3       4    15.0  0.048120  1.000000\n",
      "4       5     1.0  0.003673  1.000000\n",
      "Clusters found: 5\n",
      "Significative clusters (after correction): 0\n",
      "--> Computations took 127.92598509788513 seconds...\n"
     ]
    }
   ],
   "source": [
    "start = time()\n",
    "design_matrix = \"1 + group + age + sex\"\n",
    "contrast = \"age\"\n",
    "glm_type = \"correlation\"\n",
    "group_label = \"UnitTest\"\n",
    "feature_label = \"ct\"\n",
    "parameters = dict()\n",
    "clinica_surfstat(\n",
    "    input_dir,\n",
    "    output_dir,\n",
    "    tsv_file,\n",
    "    design_matrix,\n",
    "    contrast,\n",
    "    glm_type,\n",
    "    group_label,\n",
    "    freesurfer_home,\n",
    "    surface_file,\n",
    "    feature_label,\n",
    "    parameters,\n",
    "    verbose=True,\n",
    ")\n",
    "print(f\"--> Computations took {time() - start} seconds...\")"
   ]
  },
  {
   "cell_type": "code",
   "execution_count": null,
   "id": "3f02d7a6",
   "metadata": {},
   "outputs": [],
   "source": []
  }
 ],
 "metadata": {
  "kernelspec": {
   "display_name": "Python 3 (ipykernel)",
   "language": "python",
   "name": "python3"
  },
  "language_info": {
   "codemirror_mode": {
    "name": "ipython",
    "version": 3
   },
   "file_extension": ".py",
   "mimetype": "text/x-python",
   "name": "python",
   "nbconvert_exporter": "python",
   "pygments_lexer": "ipython3",
   "version": "3.9.7"
  }
 },
 "nbformat": 4,
 "nbformat_minor": 5
}
